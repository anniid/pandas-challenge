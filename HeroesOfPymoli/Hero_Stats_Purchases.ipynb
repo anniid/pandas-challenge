{
 "cells": [
  {
   "cell_type": "code",
   "execution_count": 30,
   "metadata": {},
   "outputs": [],
   "source": [
    "import pandas as pd"
   ]
  },
  {
   "cell_type": "code",
   "execution_count": 31,
   "metadata": {},
   "outputs": [],
   "source": [
    "#Player Count\n",
    "\n",
    "#* Total Number of Players\n",
    "\n",
    "### Purchasing Analysis (Total)\n",
    "\n",
    "#* Number of Unique Items\n",
    "#* Average Purchase Price\n",
    "#* Total Number of Purchases\n",
    "#* Total Revenue\n",
    "\n",
    "### Gender Demographics\n",
    "\n",
    "#* Percentage and Count of Male Players\n",
    "#* Percentage and Count of Female Players\n",
    "#* Percentage and Count of Other / Non-Disclosed\n",
    "\n",
    "### Purchasing Analysis (Gender)\n",
    "\n",
    "#* The below each broken by gender\n",
    "#  * Purchase Count\n",
    " # * Average Purchase Price\n",
    " # * Total Purchase Value\n",
    " # * Average Purchase Total per Person by Gender\n",
    "\n",
    "### Age Demographics\n",
    "\n",
    "#* The below each broken into bins of 4 years (i.e. &lt;10, 10-14, 15-19, etc.)\n",
    " # * Purchase Count\n",
    " # * Average Purchase Price\n",
    " # * Total Purchase Value\n",
    " # * Average Purchase Total per Person by Age Group\n",
    "\n",
    "### Top Spenders\n",
    "\n",
    "#* Identify the the top 5 spenders in the game by total purchase value, then list (in a table):\n",
    " # * SN\n",
    " # * Purchase Count\n",
    "  #* Average Purchase Price\n",
    " # * Total Purchase Value\n",
    "\n",
    "### Most Popular Items\n",
    "\n",
    "#* Identify the 5 most popular items by purchase count, then list (in a table):\n",
    " # * Item ID\n",
    " # * Item Name\n",
    " # * Purchase Count\n",
    "  #* Item Price\n",
    " # * Total Purchase Value\n",
    "\n",
    "### Most Profitable Items\n",
    "\n",
    "#* Identify the 5 most profitable items by total purchase value, then list (in a table):\n",
    " # * Item ID\n",
    " # * Item Name\n",
    " # * Purchase Count\n",
    " # * Item Price\n",
    " # * Total Purchase Value\n",
    "\n",
    "#As final considerations:\n",
    "\n",
    "#* You must use the Pandas Library and the Jupyter Notebook.\n",
    "#* You must submit a link to your Jupyter Notebook with the viewable Data Frames.\n",
    "#* You must include a written description of three observable trends based on the data.\n",
    "#* See [Example Solution](HeroesOfPymoli/HeroesOfPymoli_starter.ipynb) for a reference on expected format.\n"
   ]
  },
  {
   "cell_type": "code",
   "execution_count": 32,
   "metadata": {},
   "outputs": [],
   "source": [
    "raw_data=pd.read_csv(\"C:/Users/annel/Desktop/pandas-challenge/HeroesOfPymoli/Resources/purchase_data.csv\", sep=\",\")"
   ]
  },
  {
   "cell_type": "code",
   "execution_count": 35,
   "metadata": {},
   "outputs": [
    {
     "data": {
      "text/plain": [
       "'Player Count: 780\\n'"
      ]
     },
     "execution_count": 35,
     "metadata": {},
     "output_type": "execute_result"
    }
   ],
   "source": [
    "#player count\n",
    "Player_Count=len(raw_data[\"SN\"])\n",
    "Num_Players= f\"Player Count: {Player_Count}\"\n",
    "Num_Players\n"
   ]
  },
  {
   "cell_type": "code",
   "execution_count": 37,
   "metadata": {},
   "outputs": [
    {
     "ename": "SyntaxError",
     "evalue": "unexpected EOF while parsing (<ipython-input-37-5376d3ccedca>, line 5)",
     "output_type": "error",
     "traceback": [
      "\u001b[1;36m  File \u001b[1;32m\"<ipython-input-37-5376d3ccedca>\"\u001b[1;36m, line \u001b[1;32m5\u001b[0m\n\u001b[1;33m    f\"Total Revenue: $\"\u001b[0m\n\u001b[1;37m                       ^\u001b[0m\n\u001b[1;31mSyntaxError\u001b[0m\u001b[1;31m:\u001b[0m unexpected EOF while parsing\n"
     ]
    }
   ],
   "source": [
    "Purchasing_Analysis = (f\"Purchasing Analysis\"\n",
    "                       f\"Number of Unique Items: \"\n",
    "                       f\"Average Purchase Price: $\"\n",
    "                       f\"Total Number of Purchases: \"\n",
    "                       f\"Total Revenue: $\""
   ]
  },
  {
   "cell_type": "code",
   "execution_count": null,
   "metadata": {},
   "outputs": [],
   "source": []
  }
 ],
 "metadata": {
  "kernelspec": {
   "display_name": "Python 3",
   "language": "python",
   "name": "python3"
  },
  "language_info": {
   "codemirror_mode": {
    "name": "ipython",
    "version": 3
   },
   "file_extension": ".py",
   "mimetype": "text/x-python",
   "name": "python",
   "nbconvert_exporter": "python",
   "pygments_lexer": "ipython3",
   "version": "3.7.6"
  }
 },
 "nbformat": 4,
 "nbformat_minor": 4
}
